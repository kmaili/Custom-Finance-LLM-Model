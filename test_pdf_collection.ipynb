{
 "cells": [
  {
   "cell_type": "code",
   "execution_count": 1,
   "metadata": {
    "collapsed": true,
    "ExecuteTime": {
     "end_time": "2024-12-08T14:46:01.602765600Z",
     "start_time": "2024-12-08T14:46:00.961051800Z"
    }
   },
   "outputs": [],
   "source": [
    "from data_collection.download_finance_files import PDF_COLLECTOR"
   ]
  },
  {
   "cell_type": "code",
   "execution_count": 2,
   "outputs": [
    {
     "name": "stdout",
     "output_type": "stream",
     "text": [
      "PDF created successfully at C:\\Users\\kmail\\OneDrive\\Bureau\\Work_Directory\\Projet Wael\\PDFs\\file_0.pdf\n",
      "PDF created successfully at C:\\Users\\kmail\\OneDrive\\Bureau\\Work_Directory\\Projet Wael\\PDFs\\file_1.pdf\n",
      "PDF created successfully at C:\\Users\\kmail\\OneDrive\\Bureau\\Work_Directory\\Projet Wael\\PDFs\\file_2.pdf\n",
      "PDF created successfully at C:\\Users\\kmail\\OneDrive\\Bureau\\Work_Directory\\Projet Wael\\PDFs\\file_3.pdf\n",
      "PDF created successfully at C:\\Users\\kmail\\OneDrive\\Bureau\\Work_Directory\\Projet Wael\\PDFs\\file_4.pdf\n",
      "PDF created successfully at C:\\Users\\kmail\\OneDrive\\Bureau\\Work_Directory\\Projet Wael\\PDFs\\file_5.pdf\n",
      "PDF created successfully at C:\\Users\\kmail\\OneDrive\\Bureau\\Work_Directory\\Projet Wael\\PDFs\\file_6.pdf\n",
      "PDF created successfully at C:\\Users\\kmail\\OneDrive\\Bureau\\Work_Directory\\Projet Wael\\PDFs\\file_7.pdf\n",
      "PDF created successfully at C:\\Users\\kmail\\OneDrive\\Bureau\\Work_Directory\\Projet Wael\\PDFs\\file_8.pdf\n",
      "PDF created successfully at C:\\Users\\kmail\\OneDrive\\Bureau\\Work_Directory\\Projet Wael\\PDFs\\file_9.pdf\n",
      "PDF created successfully at C:\\Users\\kmail\\OneDrive\\Bureau\\Work_Directory\\Projet Wael\\PDFs\\file_10.pdf\n",
      "PDF created successfully at C:\\Users\\kmail\\OneDrive\\Bureau\\Work_Directory\\Projet Wael\\PDFs\\file_11.pdf\n",
      "PDF created successfully at C:\\Users\\kmail\\OneDrive\\Bureau\\Work_Directory\\Projet Wael\\PDFs\\file_12.pdf\n",
      "PDF created successfully at C:\\Users\\kmail\\OneDrive\\Bureau\\Work_Directory\\Projet Wael\\PDFs\\file_13.pdf\n",
      "PDF created successfully at C:\\Users\\kmail\\OneDrive\\Bureau\\Work_Directory\\Projet Wael\\PDFs\\file_14.pdf\n"
     ]
    }
   ],
   "source": [
    "pdf_collector = PDF_COLLECTOR()\n",
    "pdf_collector.collect_pdfs(\"URLs.txt\")"
   ],
   "metadata": {
    "collapsed": false,
    "ExecuteTime": {
     "end_time": "2024-12-08T14:51:54.932663200Z",
     "start_time": "2024-12-08T14:46:02.423380400Z"
    }
   }
  },
  {
   "cell_type": "code",
   "execution_count": null,
   "outputs": [],
   "source": [],
   "metadata": {
    "collapsed": false
   }
  }
 ],
 "metadata": {
  "kernelspec": {
   "display_name": "Python 3",
   "language": "python",
   "name": "python3"
  },
  "language_info": {
   "codemirror_mode": {
    "name": "ipython",
    "version": 2
   },
   "file_extension": ".py",
   "mimetype": "text/x-python",
   "name": "python",
   "nbconvert_exporter": "python",
   "pygments_lexer": "ipython2",
   "version": "2.7.6"
  }
 },
 "nbformat": 4,
 "nbformat_minor": 0
}
