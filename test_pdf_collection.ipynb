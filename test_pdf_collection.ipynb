{
 "cells": [
  {
   "cell_type": "code",
   "execution_count": 3,
   "outputs": [],
   "source": [
    "%load_ext autoreload\n",
    "%autoreload 2"
   ],
   "metadata": {
    "collapsed": false,
    "ExecuteTime": {
     "end_time": "2024-12-08T18:23:04.783433Z",
     "start_time": "2024-12-08T18:23:04.474829900Z"
    }
   }
  },
  {
   "cell_type": "code",
   "execution_count": 4,
   "metadata": {
    "collapsed": true,
    "ExecuteTime": {
     "end_time": "2024-12-08T18:23:06.110323400Z",
     "start_time": "2024-12-08T18:23:06.029446600Z"
    }
   },
   "outputs": [],
   "source": [
    "from data_collection.download_finance_files import PDF_COLLECTOR"
   ]
  },
  {
   "cell_type": "code",
   "execution_count": 16,
   "outputs": [
    {
     "name": "stdout",
     "output_type": "stream",
     "text": [
      "PDF created successfully at C:\\Users\\kmail\\OneDrive\\Bureau\\Work_Directory\\Projet Wael\\PDFs\\file_0.pdf\n"
     ]
    }
   ],
   "source": [
    "pdf_collector = PDF_COLLECTOR()\n",
    "pdf_collector.collect_pdfs(\"URLs.txt\")"
   ],
   "metadata": {
    "collapsed": false,
    "ExecuteTime": {
     "end_time": "2024-12-08T18:42:18.070976Z",
     "start_time": "2024-12-08T18:42:00.428538900Z"
    }
   }
  },
  {
   "cell_type": "code",
   "execution_count": null,
   "outputs": [],
   "source": [],
   "metadata": {
    "collapsed": false
   }
  }
 ],
 "metadata": {
  "kernelspec": {
   "display_name": "Python 3",
   "language": "python",
   "name": "python3"
  },
  "language_info": {
   "codemirror_mode": {
    "name": "ipython",
    "version": 2
   },
   "file_extension": ".py",
   "mimetype": "text/x-python",
   "name": "python",
   "nbconvert_exporter": "python",
   "pygments_lexer": "ipython2",
   "version": "2.7.6"
  }
 },
 "nbformat": 4,
 "nbformat_minor": 0
}
