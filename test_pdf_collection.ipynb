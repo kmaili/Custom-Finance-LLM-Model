{
 "cells": [
  {
   "cell_type": "code",
   "execution_count": 1,
   "outputs": [],
   "source": [
    "%load_ext autoreload\n",
    "%autoreload 2"
   ],
   "metadata": {
    "collapsed": false,
    "ExecuteTime": {
     "end_time": "2024-12-10T19:57:30.980678900Z",
     "start_time": "2024-12-10T19:57:30.916577Z"
    }
   }
  },
  {
   "cell_type": "code",
   "execution_count": 12,
   "metadata": {
    "collapsed": true,
    "ExecuteTime": {
     "end_time": "2024-12-10T20:18:19.251561800Z",
     "start_time": "2024-12-10T20:18:19.125781600Z"
    }
   },
   "outputs": [],
   "source": [
    "from data_collection.download_finance_files import PDF_COLLECTOR"
   ]
  },
  {
   "cell_type": "code",
   "execution_count": null,
   "outputs": [
    {
     "name": "stdout",
     "output_type": "stream",
     "text": [
      "file_0 saved\n",
      "file_1 saved\n"
     ]
    }
   ],
   "source": [
    "pdf_collector = PDF_COLLECTOR()\n",
    "pdf_collector.collect_pdfs(\"URLs.txt\")"
   ],
   "metadata": {
    "collapsed": false,
    "is_executing": true,
    "ExecuteTime": {
     "start_time": "2024-12-10T20:54:06.762535Z"
    }
   }
  },
  {
   "cell_type": "code",
   "execution_count": null,
   "outputs": [],
   "source": [
    "import PyPDF2\n",
    "\n",
    "def extract_text_from_pdf(pdf_path):\n",
    "    with open(pdf_path, 'rb') as file:\n",
    "        reader = PyPDF2.PdfReader(file)\n",
    "        txt = \"\"\n",
    "        for page in reader.pages:\n",
    "            txt += page.extract_text()\n",
    "    return txt\n",
    "\n",
    "raw_text = '\\n'.join([extract_text_from_pdf(f\"PDFs/file_{index}.pdf\") for index in range(18)])"
   ],
   "metadata": {
    "collapsed": false
   }
  },
  {
   "cell_type": "code",
   "execution_count": null,
   "outputs": [],
   "source": [
    "import re\n",
    "from nltk.corpus import stopwords\n",
    "\n",
    "\n",
    "def get_filtered_frequent_words(text):\n",
    "    cleaned_text = re.sub(r\"[^a-zA-Z\\s]\", \"\", text)\n",
    "    words = cleaned_text.lower().split()\n",
    "\n",
    "    stop_words = set(stopwords.words(\"english\"))\n",
    "    filtered_words = [\n",
    "        word for word in words if word not in stop_words and len(word) > 2\n",
    "    ]\n",
    "    return filtered_words\n",
    "\n",
    "top_filtered_words = get_filtered_frequent_words(raw_text)\n",
    "print(\"Filtered Frequent Words:\", top_filtered_words)\n"
   ],
   "metadata": {
    "collapsed": false
   }
  },
  {
   "cell_type": "code",
   "execution_count": null,
   "outputs": [],
   "source": [
    "len(top_filtered_words)"
   ],
   "metadata": {
    "collapsed": false
   }
  },
  {
   "cell_type": "code",
   "execution_count": null,
   "outputs": [],
   "source": [],
   "metadata": {
    "collapsed": false
   }
  }
 ],
 "metadata": {
  "kernelspec": {
   "display_name": "Python 3",
   "language": "python",
   "name": "python3"
  },
  "language_info": {
   "codemirror_mode": {
    "name": "ipython",
    "version": 2
   },
   "file_extension": ".py",
   "mimetype": "text/x-python",
   "name": "python",
   "nbconvert_exporter": "python",
   "pygments_lexer": "ipython2",
   "version": "2.7.6"
  }
 },
 "nbformat": 4,
 "nbformat_minor": 0
}
