{
 "cells": [
  {
   "cell_type": "code",
   "execution_count": 3,
   "outputs": [
    {
     "name": "stdout",
     "output_type": "stream",
     "text": [
      "The autoreload extension is already loaded. To reload it, use:\n",
      "  %reload_ext autoreload\n"
     ]
    }
   ],
   "source": [
    "%load_ext autoreload\n",
    "%autoreload 2"
   ],
   "metadata": {
    "collapsed": false,
    "ExecuteTime": {
     "end_time": "2025-01-04T19:35:01.769237900Z",
     "start_time": "2025-01-04T19:35:01.654155700Z"
    }
   }
  },
  {
   "cell_type": "code",
   "execution_count": 7,
   "metadata": {
    "collapsed": true,
    "ExecuteTime": {
     "end_time": "2025-01-04T19:00:27.383483900Z",
     "start_time": "2025-01-04T19:00:27.112497Z"
    }
   },
   "outputs": [],
   "source": [
    "from data_collection import PDF_COLLECTOR"
   ]
  },
  {
   "cell_type": "code",
   "execution_count": 8,
   "outputs": [
    {
     "name": "stdout",
     "output_type": "stream",
     "text": [
      "file_0 saved\n",
      "file_1 saved\n",
      "file_2 saved\n",
      "file_3 saved\n",
      "file_4 saved\n",
      "file_5 saved\n",
      "file_6 saved\n",
      "file_7 saved\n",
      "file_8 saved\n",
      "file_9 saved\n"
     ]
    }
   ],
   "source": [
    "pdf_collector = PDF_COLLECTOR()\n",
    "pdf_collector.collect_pdfs(\"data_sources/URLs.txt\")"
   ],
   "metadata": {
    "collapsed": false,
    "ExecuteTime": {
     "end_time": "2025-01-04T19:02:04.906726100Z",
     "start_time": "2025-01-04T19:00:28.232424700Z"
    }
   }
  },
  {
   "cell_type": "code",
   "execution_count": 6,
   "outputs": [
    {
     "name": "stdout",
     "output_type": "stream",
     "text": [
      "2025-01-04 20:40:44 - INFO - Traitement du fichier PDF : PDFs/file_0.pdf\n",
      "2025-01-04 20:40:44 - INFO - Traitement du fichier PDF : PDFs/file_0.pdf\n",
      "2025-01-04 20:40:44 - INFO - Traitement du fichier PDF : PDFs/file_0.pdf\n",
      "2025-01-04 20:40:44 - INFO - Traitement du fichier PDF : PDFs/file_0.pdf\n",
      "2025-01-04 20:40:44 - INFO - Extraction du texte sans les tables pour le fichier : PDFs/file_0.pdf\n",
      "2025-01-04 20:40:44 - INFO - Extraction du texte sans les tables pour le fichier : PDFs/file_0.pdf\n",
      "2025-01-04 20:40:44 - INFO - Extraction du texte sans les tables pour le fichier : PDFs/file_0.pdf\n",
      "2025-01-04 20:40:44 - INFO - Extraction du texte sans les tables pour le fichier : PDFs/file_0.pdf\n",
      "2025-01-04 20:41:11 - INFO - Texte extrait avec succès pour le fichier : PDFs/file_0.pdf\n",
      "2025-01-04 20:41:11 - INFO - Texte extrait avec succès pour le fichier : PDFs/file_0.pdf\n",
      "2025-01-04 20:41:11 - INFO - Texte extrait avec succès pour le fichier : PDFs/file_0.pdf\n",
      "2025-01-04 20:41:11 - INFO - Texte extrait avec succès pour le fichier : PDFs/file_0.pdf\n",
      "2025-01-04 20:41:11 - INFO - Suppression des en-têtes et pieds de page\n",
      "2025-01-04 20:41:11 - INFO - Suppression des en-têtes et pieds de page\n",
      "2025-01-04 20:41:11 - INFO - Suppression des en-têtes et pieds de page\n",
      "2025-01-04 20:41:11 - INFO - Suppression des en-têtes et pieds de page\n",
      "2025-01-04 20:41:11 - INFO - Normalisation des espaces blancs\n",
      "2025-01-04 20:41:11 - INFO - Normalisation des espaces blancs\n",
      "2025-01-04 20:41:11 - INFO - Normalisation des espaces blancs\n",
      "2025-01-04 20:41:11 - INFO - Normalisation des espaces blancs\n",
      "2025-01-04 20:41:11 - INFO - Réparation des lignes cassées\n",
      "2025-01-04 20:41:11 - INFO - Réparation des lignes cassées\n",
      "2025-01-04 20:41:11 - INFO - Réparation des lignes cassées\n",
      "2025-01-04 20:41:11 - INFO - Réparation des lignes cassées\n",
      "2025-01-04 20:41:11 - INFO - Suppression des phrases redondantes\n",
      "2025-01-04 20:41:11 - INFO - Suppression des phrases redondantes\n",
      "2025-01-04 20:41:11 - INFO - Suppression des phrases redondantes\n",
      "2025-01-04 20:41:11 - INFO - Suppression des phrases redondantes\n",
      "2025-01-04 20:41:11 - INFO - Fichier PDF traité avec succès : PDFs/file_0.pdf\n",
      "2025-01-04 20:41:11 - INFO - Fichier PDF traité avec succès : PDFs/file_0.pdf\n",
      "2025-01-04 20:41:11 - INFO - Fichier PDF traité avec succès : PDFs/file_0.pdf\n",
      "2025-01-04 20:41:11 - INFO - Fichier PDF traité avec succès : PDFs/file_0.pdf\n",
      "2025-01-04 20:41:11 - INFO - Traitement du fichier PDF : PDFs/file_1.pdf\n",
      "2025-01-04 20:41:11 - INFO - Traitement du fichier PDF : PDFs/file_1.pdf\n",
      "2025-01-04 20:41:11 - INFO - Traitement du fichier PDF : PDFs/file_1.pdf\n",
      "2025-01-04 20:41:11 - INFO - Traitement du fichier PDF : PDFs/file_1.pdf\n",
      "2025-01-04 20:41:11 - INFO - Extraction du texte sans les tables pour le fichier : PDFs/file_1.pdf\n",
      "2025-01-04 20:41:11 - INFO - Extraction du texte sans les tables pour le fichier : PDFs/file_1.pdf\n",
      "2025-01-04 20:41:11 - INFO - Extraction du texte sans les tables pour le fichier : PDFs/file_1.pdf\n",
      "2025-01-04 20:41:11 - INFO - Extraction du texte sans les tables pour le fichier : PDFs/file_1.pdf\n",
      "2025-01-04 20:41:46 - INFO - Texte extrait avec succès pour le fichier : PDFs/file_1.pdf\n",
      "2025-01-04 20:41:46 - INFO - Texte extrait avec succès pour le fichier : PDFs/file_1.pdf\n",
      "2025-01-04 20:41:46 - INFO - Texte extrait avec succès pour le fichier : PDFs/file_1.pdf\n",
      "2025-01-04 20:41:46 - INFO - Texte extrait avec succès pour le fichier : PDFs/file_1.pdf\n",
      "2025-01-04 20:41:46 - INFO - Suppression des en-têtes et pieds de page\n",
      "2025-01-04 20:41:46 - INFO - Suppression des en-têtes et pieds de page\n",
      "2025-01-04 20:41:46 - INFO - Suppression des en-têtes et pieds de page\n",
      "2025-01-04 20:41:46 - INFO - Suppression des en-têtes et pieds de page\n",
      "2025-01-04 20:41:46 - INFO - Normalisation des espaces blancs\n",
      "2025-01-04 20:41:46 - INFO - Normalisation des espaces blancs\n",
      "2025-01-04 20:41:46 - INFO - Normalisation des espaces blancs\n",
      "2025-01-04 20:41:46 - INFO - Normalisation des espaces blancs\n",
      "2025-01-04 20:41:46 - INFO - Réparation des lignes cassées\n",
      "2025-01-04 20:41:46 - INFO - Réparation des lignes cassées\n",
      "2025-01-04 20:41:46 - INFO - Réparation des lignes cassées\n",
      "2025-01-04 20:41:46 - INFO - Réparation des lignes cassées\n",
      "2025-01-04 20:41:46 - INFO - Suppression des phrases redondantes\n",
      "2025-01-04 20:41:46 - INFO - Suppression des phrases redondantes\n",
      "2025-01-04 20:41:46 - INFO - Suppression des phrases redondantes\n",
      "2025-01-04 20:41:46 - INFO - Suppression des phrases redondantes\n",
      "2025-01-04 20:41:46 - INFO - Fichier PDF traité avec succès : PDFs/file_1.pdf\n",
      "2025-01-04 20:41:46 - INFO - Fichier PDF traité avec succès : PDFs/file_1.pdf\n",
      "2025-01-04 20:41:46 - INFO - Fichier PDF traité avec succès : PDFs/file_1.pdf\n",
      "2025-01-04 20:41:46 - INFO - Fichier PDF traité avec succès : PDFs/file_1.pdf\n",
      "2025-01-04 20:41:46 - INFO - Traitement du fichier PDF : PDFs/file_2.pdf\n",
      "2025-01-04 20:41:46 - INFO - Traitement du fichier PDF : PDFs/file_2.pdf\n",
      "2025-01-04 20:41:46 - INFO - Traitement du fichier PDF : PDFs/file_2.pdf\n",
      "2025-01-04 20:41:46 - INFO - Traitement du fichier PDF : PDFs/file_2.pdf\n",
      "2025-01-04 20:41:46 - INFO - Extraction du texte sans les tables pour le fichier : PDFs/file_2.pdf\n",
      "2025-01-04 20:41:46 - INFO - Extraction du texte sans les tables pour le fichier : PDFs/file_2.pdf\n",
      "2025-01-04 20:41:46 - INFO - Extraction du texte sans les tables pour le fichier : PDFs/file_2.pdf\n",
      "2025-01-04 20:41:46 - INFO - Extraction du texte sans les tables pour le fichier : PDFs/file_2.pdf\n",
      "2025-01-04 20:42:31 - INFO - Texte extrait avec succès pour le fichier : PDFs/file_2.pdf\n",
      "2025-01-04 20:42:31 - INFO - Texte extrait avec succès pour le fichier : PDFs/file_2.pdf\n",
      "2025-01-04 20:42:31 - INFO - Texte extrait avec succès pour le fichier : PDFs/file_2.pdf\n",
      "2025-01-04 20:42:31 - INFO - Texte extrait avec succès pour le fichier : PDFs/file_2.pdf\n",
      "2025-01-04 20:42:31 - INFO - Suppression des en-têtes et pieds de page\n",
      "2025-01-04 20:42:31 - INFO - Suppression des en-têtes et pieds de page\n",
      "2025-01-04 20:42:31 - INFO - Suppression des en-têtes et pieds de page\n",
      "2025-01-04 20:42:31 - INFO - Suppression des en-têtes et pieds de page\n",
      "2025-01-04 20:42:31 - INFO - Normalisation des espaces blancs\n",
      "2025-01-04 20:42:31 - INFO - Normalisation des espaces blancs\n",
      "2025-01-04 20:42:31 - INFO - Normalisation des espaces blancs\n",
      "2025-01-04 20:42:31 - INFO - Normalisation des espaces blancs\n",
      "2025-01-04 20:42:31 - INFO - Réparation des lignes cassées\n",
      "2025-01-04 20:42:31 - INFO - Réparation des lignes cassées\n",
      "2025-01-04 20:42:31 - INFO - Réparation des lignes cassées\n",
      "2025-01-04 20:42:31 - INFO - Réparation des lignes cassées\n",
      "2025-01-04 20:42:31 - INFO - Suppression des phrases redondantes\n",
      "2025-01-04 20:42:31 - INFO - Suppression des phrases redondantes\n",
      "2025-01-04 20:42:31 - INFO - Suppression des phrases redondantes\n",
      "2025-01-04 20:42:31 - INFO - Suppression des phrases redondantes\n",
      "2025-01-04 20:42:31 - INFO - Fichier PDF traité avec succès : PDFs/file_2.pdf\n",
      "2025-01-04 20:42:31 - INFO - Fichier PDF traité avec succès : PDFs/file_2.pdf\n",
      "2025-01-04 20:42:31 - INFO - Fichier PDF traité avec succès : PDFs/file_2.pdf\n",
      "2025-01-04 20:42:31 - INFO - Fichier PDF traité avec succès : PDFs/file_2.pdf\n",
      "2025-01-04 20:42:31 - INFO - Traitement du fichier PDF : PDFs/file_3.pdf\n",
      "2025-01-04 20:42:31 - INFO - Traitement du fichier PDF : PDFs/file_3.pdf\n",
      "2025-01-04 20:42:31 - INFO - Traitement du fichier PDF : PDFs/file_3.pdf\n",
      "2025-01-04 20:42:31 - INFO - Traitement du fichier PDF : PDFs/file_3.pdf\n",
      "2025-01-04 20:42:31 - INFO - Extraction du texte sans les tables pour le fichier : PDFs/file_3.pdf\n",
      "2025-01-04 20:42:31 - INFO - Extraction du texte sans les tables pour le fichier : PDFs/file_3.pdf\n",
      "2025-01-04 20:42:31 - INFO - Extraction du texte sans les tables pour le fichier : PDFs/file_3.pdf\n",
      "2025-01-04 20:42:31 - INFO - Extraction du texte sans les tables pour le fichier : PDFs/file_3.pdf\n",
      "2025-01-04 20:43:21 - INFO - Texte extrait avec succès pour le fichier : PDFs/file_3.pdf\n",
      "2025-01-04 20:43:21 - INFO - Texte extrait avec succès pour le fichier : PDFs/file_3.pdf\n",
      "2025-01-04 20:43:21 - INFO - Texte extrait avec succès pour le fichier : PDFs/file_3.pdf\n",
      "2025-01-04 20:43:21 - INFO - Texte extrait avec succès pour le fichier : PDFs/file_3.pdf\n",
      "2025-01-04 20:43:21 - INFO - Suppression des en-têtes et pieds de page\n",
      "2025-01-04 20:43:21 - INFO - Suppression des en-têtes et pieds de page\n",
      "2025-01-04 20:43:21 - INFO - Suppression des en-têtes et pieds de page\n",
      "2025-01-04 20:43:21 - INFO - Suppression des en-têtes et pieds de page\n",
      "2025-01-04 20:43:21 - INFO - Normalisation des espaces blancs\n",
      "2025-01-04 20:43:21 - INFO - Normalisation des espaces blancs\n",
      "2025-01-04 20:43:21 - INFO - Normalisation des espaces blancs\n",
      "2025-01-04 20:43:21 - INFO - Normalisation des espaces blancs\n",
      "2025-01-04 20:43:21 - INFO - Réparation des lignes cassées\n",
      "2025-01-04 20:43:21 - INFO - Réparation des lignes cassées\n",
      "2025-01-04 20:43:21 - INFO - Réparation des lignes cassées\n",
      "2025-01-04 20:43:21 - INFO - Réparation des lignes cassées\n",
      "2025-01-04 20:43:21 - INFO - Suppression des phrases redondantes\n",
      "2025-01-04 20:43:21 - INFO - Suppression des phrases redondantes\n",
      "2025-01-04 20:43:21 - INFO - Suppression des phrases redondantes\n",
      "2025-01-04 20:43:21 - INFO - Suppression des phrases redondantes\n",
      "2025-01-04 20:43:21 - INFO - Fichier PDF traité avec succès : PDFs/file_3.pdf\n",
      "2025-01-04 20:43:21 - INFO - Fichier PDF traité avec succès : PDFs/file_3.pdf\n",
      "2025-01-04 20:43:21 - INFO - Fichier PDF traité avec succès : PDFs/file_3.pdf\n",
      "2025-01-04 20:43:21 - INFO - Fichier PDF traité avec succès : PDFs/file_3.pdf\n",
      "2025-01-04 20:43:21 - INFO - Traitement du fichier PDF : PDFs/file_4.pdf\n",
      "2025-01-04 20:43:21 - INFO - Traitement du fichier PDF : PDFs/file_4.pdf\n",
      "2025-01-04 20:43:21 - INFO - Traitement du fichier PDF : PDFs/file_4.pdf\n",
      "2025-01-04 20:43:21 - INFO - Traitement du fichier PDF : PDFs/file_4.pdf\n",
      "2025-01-04 20:43:21 - INFO - Extraction du texte sans les tables pour le fichier : PDFs/file_4.pdf\n",
      "2025-01-04 20:43:21 - INFO - Extraction du texte sans les tables pour le fichier : PDFs/file_4.pdf\n",
      "2025-01-04 20:43:21 - INFO - Extraction du texte sans les tables pour le fichier : PDFs/file_4.pdf\n",
      "2025-01-04 20:43:21 - INFO - Extraction du texte sans les tables pour le fichier : PDFs/file_4.pdf\n",
      "2025-01-04 20:44:19 - INFO - Texte extrait avec succès pour le fichier : PDFs/file_4.pdf\n",
      "2025-01-04 20:44:19 - INFO - Texte extrait avec succès pour le fichier : PDFs/file_4.pdf\n",
      "2025-01-04 20:44:19 - INFO - Texte extrait avec succès pour le fichier : PDFs/file_4.pdf\n",
      "2025-01-04 20:44:19 - INFO - Texte extrait avec succès pour le fichier : PDFs/file_4.pdf\n",
      "2025-01-04 20:44:19 - INFO - Suppression des en-têtes et pieds de page\n",
      "2025-01-04 20:44:19 - INFO - Suppression des en-têtes et pieds de page\n",
      "2025-01-04 20:44:19 - INFO - Suppression des en-têtes et pieds de page\n",
      "2025-01-04 20:44:19 - INFO - Suppression des en-têtes et pieds de page\n",
      "2025-01-04 20:44:19 - INFO - Normalisation des espaces blancs\n",
      "2025-01-04 20:44:19 - INFO - Normalisation des espaces blancs\n",
      "2025-01-04 20:44:19 - INFO - Normalisation des espaces blancs\n",
      "2025-01-04 20:44:19 - INFO - Normalisation des espaces blancs\n",
      "2025-01-04 20:44:19 - INFO - Réparation des lignes cassées\n",
      "2025-01-04 20:44:19 - INFO - Réparation des lignes cassées\n",
      "2025-01-04 20:44:19 - INFO - Réparation des lignes cassées\n",
      "2025-01-04 20:44:19 - INFO - Réparation des lignes cassées\n",
      "2025-01-04 20:44:19 - INFO - Suppression des phrases redondantes\n",
      "2025-01-04 20:44:19 - INFO - Suppression des phrases redondantes\n",
      "2025-01-04 20:44:19 - INFO - Suppression des phrases redondantes\n",
      "2025-01-04 20:44:19 - INFO - Suppression des phrases redondantes\n",
      "2025-01-04 20:44:19 - INFO - Fichier PDF traité avec succès : PDFs/file_4.pdf\n",
      "2025-01-04 20:44:19 - INFO - Fichier PDF traité avec succès : PDFs/file_4.pdf\n",
      "2025-01-04 20:44:19 - INFO - Fichier PDF traité avec succès : PDFs/file_4.pdf\n",
      "2025-01-04 20:44:19 - INFO - Fichier PDF traité avec succès : PDFs/file_4.pdf\n",
      "2025-01-04 20:44:19 - INFO - Traitement du fichier PDF : PDFs/file_5.pdf\n",
      "2025-01-04 20:44:19 - INFO - Traitement du fichier PDF : PDFs/file_5.pdf\n",
      "2025-01-04 20:44:19 - INFO - Traitement du fichier PDF : PDFs/file_5.pdf\n",
      "2025-01-04 20:44:19 - INFO - Traitement du fichier PDF : PDFs/file_5.pdf\n",
      "2025-01-04 20:44:19 - INFO - Extraction du texte sans les tables pour le fichier : PDFs/file_5.pdf\n",
      "2025-01-04 20:44:19 - INFO - Extraction du texte sans les tables pour le fichier : PDFs/file_5.pdf\n",
      "2025-01-04 20:44:19 - INFO - Extraction du texte sans les tables pour le fichier : PDFs/file_5.pdf\n",
      "2025-01-04 20:44:19 - INFO - Extraction du texte sans les tables pour le fichier : PDFs/file_5.pdf\n",
      "2025-01-04 20:44:57 - INFO - Texte extrait avec succès pour le fichier : PDFs/file_5.pdf\n",
      "2025-01-04 20:44:57 - INFO - Texte extrait avec succès pour le fichier : PDFs/file_5.pdf\n",
      "2025-01-04 20:44:57 - INFO - Texte extrait avec succès pour le fichier : PDFs/file_5.pdf\n",
      "2025-01-04 20:44:57 - INFO - Texte extrait avec succès pour le fichier : PDFs/file_5.pdf\n",
      "2025-01-04 20:44:57 - INFO - Suppression des en-têtes et pieds de page\n",
      "2025-01-04 20:44:57 - INFO - Suppression des en-têtes et pieds de page\n",
      "2025-01-04 20:44:57 - INFO - Suppression des en-têtes et pieds de page\n",
      "2025-01-04 20:44:57 - INFO - Suppression des en-têtes et pieds de page\n",
      "2025-01-04 20:44:57 - INFO - Normalisation des espaces blancs\n",
      "2025-01-04 20:44:57 - INFO - Normalisation des espaces blancs\n",
      "2025-01-04 20:44:57 - INFO - Normalisation des espaces blancs\n",
      "2025-01-04 20:44:57 - INFO - Normalisation des espaces blancs\n",
      "2025-01-04 20:44:57 - INFO - Réparation des lignes cassées\n",
      "2025-01-04 20:44:57 - INFO - Réparation des lignes cassées\n",
      "2025-01-04 20:44:57 - INFO - Réparation des lignes cassées\n",
      "2025-01-04 20:44:57 - INFO - Réparation des lignes cassées\n",
      "2025-01-04 20:44:57 - INFO - Suppression des phrases redondantes\n",
      "2025-01-04 20:44:57 - INFO - Suppression des phrases redondantes\n",
      "2025-01-04 20:44:57 - INFO - Suppression des phrases redondantes\n",
      "2025-01-04 20:44:57 - INFO - Suppression des phrases redondantes\n",
      "2025-01-04 20:44:57 - INFO - Fichier PDF traité avec succès : PDFs/file_5.pdf\n",
      "2025-01-04 20:44:57 - INFO - Fichier PDF traité avec succès : PDFs/file_5.pdf\n",
      "2025-01-04 20:44:57 - INFO - Fichier PDF traité avec succès : PDFs/file_5.pdf\n",
      "2025-01-04 20:44:57 - INFO - Fichier PDF traité avec succès : PDFs/file_5.pdf\n",
      "2025-01-04 20:44:57 - INFO - Traitement du fichier PDF : PDFs/file_6.pdf\n",
      "2025-01-04 20:44:57 - INFO - Traitement du fichier PDF : PDFs/file_6.pdf\n",
      "2025-01-04 20:44:57 - INFO - Traitement du fichier PDF : PDFs/file_6.pdf\n",
      "2025-01-04 20:44:57 - INFO - Traitement du fichier PDF : PDFs/file_6.pdf\n",
      "2025-01-04 20:44:57 - INFO - Extraction du texte sans les tables pour le fichier : PDFs/file_6.pdf\n",
      "2025-01-04 20:44:57 - INFO - Extraction du texte sans les tables pour le fichier : PDFs/file_6.pdf\n",
      "2025-01-04 20:44:57 - INFO - Extraction du texte sans les tables pour le fichier : PDFs/file_6.pdf\n",
      "2025-01-04 20:44:57 - INFO - Extraction du texte sans les tables pour le fichier : PDFs/file_6.pdf\n",
      "2025-01-04 20:45:57 - INFO - Texte extrait avec succès pour le fichier : PDFs/file_6.pdf\n",
      "2025-01-04 20:45:57 - INFO - Texte extrait avec succès pour le fichier : PDFs/file_6.pdf\n",
      "2025-01-04 20:45:57 - INFO - Texte extrait avec succès pour le fichier : PDFs/file_6.pdf\n",
      "2025-01-04 20:45:57 - INFO - Texte extrait avec succès pour le fichier : PDFs/file_6.pdf\n",
      "2025-01-04 20:45:57 - INFO - Suppression des en-têtes et pieds de page\n",
      "2025-01-04 20:45:57 - INFO - Suppression des en-têtes et pieds de page\n",
      "2025-01-04 20:45:57 - INFO - Suppression des en-têtes et pieds de page\n",
      "2025-01-04 20:45:57 - INFO - Suppression des en-têtes et pieds de page\n",
      "2025-01-04 20:45:57 - INFO - Normalisation des espaces blancs\n",
      "2025-01-04 20:45:57 - INFO - Normalisation des espaces blancs\n",
      "2025-01-04 20:45:57 - INFO - Normalisation des espaces blancs\n",
      "2025-01-04 20:45:57 - INFO - Normalisation des espaces blancs\n",
      "2025-01-04 20:45:57 - INFO - Réparation des lignes cassées\n",
      "2025-01-04 20:45:57 - INFO - Réparation des lignes cassées\n",
      "2025-01-04 20:45:57 - INFO - Réparation des lignes cassées\n",
      "2025-01-04 20:45:57 - INFO - Réparation des lignes cassées\n",
      "2025-01-04 20:45:57 - INFO - Suppression des phrases redondantes\n",
      "2025-01-04 20:45:57 - INFO - Suppression des phrases redondantes\n",
      "2025-01-04 20:45:57 - INFO - Suppression des phrases redondantes\n",
      "2025-01-04 20:45:57 - INFO - Suppression des phrases redondantes\n",
      "2025-01-04 20:45:57 - INFO - Fichier PDF traité avec succès : PDFs/file_6.pdf\n",
      "2025-01-04 20:45:57 - INFO - Fichier PDF traité avec succès : PDFs/file_6.pdf\n",
      "2025-01-04 20:45:57 - INFO - Fichier PDF traité avec succès : PDFs/file_6.pdf\n",
      "2025-01-04 20:45:57 - INFO - Fichier PDF traité avec succès : PDFs/file_6.pdf\n",
      "2025-01-04 20:45:57 - INFO - Traitement du fichier PDF : PDFs/file_7.pdf\n",
      "2025-01-04 20:45:57 - INFO - Traitement du fichier PDF : PDFs/file_7.pdf\n",
      "2025-01-04 20:45:57 - INFO - Traitement du fichier PDF : PDFs/file_7.pdf\n",
      "2025-01-04 20:45:57 - INFO - Traitement du fichier PDF : PDFs/file_7.pdf\n",
      "2025-01-04 20:45:57 - INFO - Extraction du texte sans les tables pour le fichier : PDFs/file_7.pdf\n",
      "2025-01-04 20:45:57 - INFO - Extraction du texte sans les tables pour le fichier : PDFs/file_7.pdf\n",
      "2025-01-04 20:45:57 - INFO - Extraction du texte sans les tables pour le fichier : PDFs/file_7.pdf\n",
      "2025-01-04 20:45:57 - INFO - Extraction du texte sans les tables pour le fichier : PDFs/file_7.pdf\n",
      "2025-01-04 20:46:58 - INFO - Texte extrait avec succès pour le fichier : PDFs/file_7.pdf\n",
      "2025-01-04 20:46:58 - INFO - Texte extrait avec succès pour le fichier : PDFs/file_7.pdf\n",
      "2025-01-04 20:46:58 - INFO - Texte extrait avec succès pour le fichier : PDFs/file_7.pdf\n",
      "2025-01-04 20:46:58 - INFO - Texte extrait avec succès pour le fichier : PDFs/file_7.pdf\n",
      "2025-01-04 20:46:58 - INFO - Suppression des en-têtes et pieds de page\n",
      "2025-01-04 20:46:58 - INFO - Suppression des en-têtes et pieds de page\n",
      "2025-01-04 20:46:58 - INFO - Suppression des en-têtes et pieds de page\n",
      "2025-01-04 20:46:58 - INFO - Suppression des en-têtes et pieds de page\n",
      "2025-01-04 20:46:58 - INFO - Normalisation des espaces blancs\n",
      "2025-01-04 20:46:58 - INFO - Normalisation des espaces blancs\n",
      "2025-01-04 20:46:58 - INFO - Normalisation des espaces blancs\n",
      "2025-01-04 20:46:58 - INFO - Normalisation des espaces blancs\n",
      "2025-01-04 20:46:58 - INFO - Réparation des lignes cassées\n",
      "2025-01-04 20:46:58 - INFO - Réparation des lignes cassées\n",
      "2025-01-04 20:46:58 - INFO - Réparation des lignes cassées\n",
      "2025-01-04 20:46:58 - INFO - Réparation des lignes cassées\n",
      "2025-01-04 20:46:58 - INFO - Suppression des phrases redondantes\n",
      "2025-01-04 20:46:58 - INFO - Suppression des phrases redondantes\n",
      "2025-01-04 20:46:58 - INFO - Suppression des phrases redondantes\n",
      "2025-01-04 20:46:58 - INFO - Suppression des phrases redondantes\n",
      "2025-01-04 20:46:58 - INFO - Fichier PDF traité avec succès : PDFs/file_7.pdf\n",
      "2025-01-04 20:46:58 - INFO - Fichier PDF traité avec succès : PDFs/file_7.pdf\n",
      "2025-01-04 20:46:58 - INFO - Fichier PDF traité avec succès : PDFs/file_7.pdf\n",
      "2025-01-04 20:46:58 - INFO - Fichier PDF traité avec succès : PDFs/file_7.pdf\n",
      "2025-01-04 20:46:58 - INFO - Traitement du fichier PDF : PDFs/file_8.pdf\n",
      "2025-01-04 20:46:58 - INFO - Traitement du fichier PDF : PDFs/file_8.pdf\n",
      "2025-01-04 20:46:58 - INFO - Traitement du fichier PDF : PDFs/file_8.pdf\n",
      "2025-01-04 20:46:58 - INFO - Traitement du fichier PDF : PDFs/file_8.pdf\n",
      "2025-01-04 20:46:58 - INFO - Extraction du texte sans les tables pour le fichier : PDFs/file_8.pdf\n",
      "2025-01-04 20:46:58 - INFO - Extraction du texte sans les tables pour le fichier : PDFs/file_8.pdf\n",
      "2025-01-04 20:46:58 - INFO - Extraction du texte sans les tables pour le fichier : PDFs/file_8.pdf\n",
      "2025-01-04 20:46:58 - INFO - Extraction du texte sans les tables pour le fichier : PDFs/file_8.pdf\n",
      "2025-01-04 20:48:25 - INFO - Texte extrait avec succès pour le fichier : PDFs/file_8.pdf\n",
      "2025-01-04 20:48:25 - INFO - Texte extrait avec succès pour le fichier : PDFs/file_8.pdf\n",
      "2025-01-04 20:48:25 - INFO - Texte extrait avec succès pour le fichier : PDFs/file_8.pdf\n",
      "2025-01-04 20:48:25 - INFO - Texte extrait avec succès pour le fichier : PDFs/file_8.pdf\n",
      "2025-01-04 20:48:25 - INFO - Suppression des en-têtes et pieds de page\n",
      "2025-01-04 20:48:25 - INFO - Suppression des en-têtes et pieds de page\n",
      "2025-01-04 20:48:25 - INFO - Suppression des en-têtes et pieds de page\n",
      "2025-01-04 20:48:25 - INFO - Suppression des en-têtes et pieds de page\n",
      "2025-01-04 20:48:25 - INFO - Normalisation des espaces blancs\n",
      "2025-01-04 20:48:25 - INFO - Normalisation des espaces blancs\n",
      "2025-01-04 20:48:25 - INFO - Normalisation des espaces blancs\n",
      "2025-01-04 20:48:25 - INFO - Normalisation des espaces blancs\n",
      "2025-01-04 20:48:25 - INFO - Réparation des lignes cassées\n",
      "2025-01-04 20:48:25 - INFO - Réparation des lignes cassées\n",
      "2025-01-04 20:48:25 - INFO - Réparation des lignes cassées\n",
      "2025-01-04 20:48:25 - INFO - Réparation des lignes cassées\n",
      "2025-01-04 20:48:25 - INFO - Suppression des phrases redondantes\n",
      "2025-01-04 20:48:25 - INFO - Suppression des phrases redondantes\n",
      "2025-01-04 20:48:25 - INFO - Suppression des phrases redondantes\n",
      "2025-01-04 20:48:25 - INFO - Suppression des phrases redondantes\n",
      "2025-01-04 20:48:25 - INFO - Fichier PDF traité avec succès : PDFs/file_8.pdf\n",
      "2025-01-04 20:48:25 - INFO - Fichier PDF traité avec succès : PDFs/file_8.pdf\n",
      "2025-01-04 20:48:25 - INFO - Fichier PDF traité avec succès : PDFs/file_8.pdf\n",
      "2025-01-04 20:48:25 - INFO - Fichier PDF traité avec succès : PDFs/file_8.pdf\n",
      "2025-01-04 20:48:25 - INFO - Traitement du fichier PDF : PDFs/file_9.pdf\n",
      "2025-01-04 20:48:25 - INFO - Traitement du fichier PDF : PDFs/file_9.pdf\n",
      "2025-01-04 20:48:25 - INFO - Traitement du fichier PDF : PDFs/file_9.pdf\n",
      "2025-01-04 20:48:25 - INFO - Traitement du fichier PDF : PDFs/file_9.pdf\n",
      "2025-01-04 20:48:25 - INFO - Extraction du texte sans les tables pour le fichier : PDFs/file_9.pdf\n",
      "2025-01-04 20:48:25 - INFO - Extraction du texte sans les tables pour le fichier : PDFs/file_9.pdf\n",
      "2025-01-04 20:48:25 - INFO - Extraction du texte sans les tables pour le fichier : PDFs/file_9.pdf\n",
      "2025-01-04 20:48:25 - INFO - Extraction du texte sans les tables pour le fichier : PDFs/file_9.pdf\n",
      "2025-01-04 20:50:25 - INFO - Texte extrait avec succès pour le fichier : PDFs/file_9.pdf\n",
      "2025-01-04 20:50:25 - INFO - Texte extrait avec succès pour le fichier : PDFs/file_9.pdf\n",
      "2025-01-04 20:50:25 - INFO - Texte extrait avec succès pour le fichier : PDFs/file_9.pdf\n",
      "2025-01-04 20:50:25 - INFO - Texte extrait avec succès pour le fichier : PDFs/file_9.pdf\n",
      "2025-01-04 20:50:25 - INFO - Suppression des en-têtes et pieds de page\n",
      "2025-01-04 20:50:25 - INFO - Suppression des en-têtes et pieds de page\n",
      "2025-01-04 20:50:25 - INFO - Suppression des en-têtes et pieds de page\n",
      "2025-01-04 20:50:25 - INFO - Suppression des en-têtes et pieds de page\n",
      "2025-01-04 20:50:25 - INFO - Normalisation des espaces blancs\n",
      "2025-01-04 20:50:25 - INFO - Normalisation des espaces blancs\n",
      "2025-01-04 20:50:25 - INFO - Normalisation des espaces blancs\n",
      "2025-01-04 20:50:25 - INFO - Normalisation des espaces blancs\n",
      "2025-01-04 20:50:25 - INFO - Réparation des lignes cassées\n",
      "2025-01-04 20:50:25 - INFO - Réparation des lignes cassées\n",
      "2025-01-04 20:50:25 - INFO - Réparation des lignes cassées\n",
      "2025-01-04 20:50:25 - INFO - Réparation des lignes cassées\n",
      "2025-01-04 20:50:25 - INFO - Suppression des phrases redondantes\n",
      "2025-01-04 20:50:25 - INFO - Suppression des phrases redondantes\n",
      "2025-01-04 20:50:25 - INFO - Suppression des phrases redondantes\n",
      "2025-01-04 20:50:25 - INFO - Suppression des phrases redondantes\n",
      "2025-01-04 20:50:25 - INFO - Fichier PDF traité avec succès : PDFs/file_9.pdf\n",
      "2025-01-04 20:50:25 - INFO - Fichier PDF traité avec succès : PDFs/file_9.pdf\n",
      "2025-01-04 20:50:25 - INFO - Fichier PDF traité avec succès : PDFs/file_9.pdf\n",
      "2025-01-04 20:50:25 - INFO - Fichier PDF traité avec succès : PDFs/file_9.pdf\n"
     ]
    }
   ],
   "source": [
    "from data_cleaning import DataCleaner\n",
    "import os\n",
    "\n",
    "files_paths = [f\"PDFs/{file_path}\" for file_path in os.listdir(\"PDFs\")]\n",
    "dataCleaner = DataCleaner(files_paths)\n",
    "\n",
    "cleaned_text = dataCleaner.clean_text()\n"
   ],
   "metadata": {
    "collapsed": false,
    "ExecuteTime": {
     "end_time": "2025-01-04T19:50:25.565632700Z",
     "start_time": "2025-01-04T19:40:44.216831200Z"
    }
   }
  },
  {
   "cell_type": "code",
   "execution_count": 7,
   "outputs": [
    {
     "name": "stdout",
     "output_type": "stream",
     "text": [
      "3812045\n"
     ]
    }
   ],
   "source": [
    "print(len(cleaned_text))"
   ],
   "metadata": {
    "collapsed": false,
    "ExecuteTime": {
     "end_time": "2025-01-04T19:51:48.230573900Z",
     "start_time": "2025-01-04T19:51:47.265473Z"
    }
   }
  },
  {
   "cell_type": "code",
   "execution_count": 12,
   "outputs": [
    {
     "name": "stderr",
     "output_type": "stream",
     "text": [
      "[nltk_data] Downloading package punkt_tab to\n",
      "[nltk_data]     C:\\Users\\kmail\\AppData\\Roaming\\nltk_data...\n",
      "[nltk_data]   Package punkt_tab is already up-to-date!\n",
      "[nltk_data] Downloading package stopwords to\n",
      "[nltk_data]     C:\\Users\\kmail\\AppData\\Roaming\\nltk_data...\n",
      "[nltk_data]   Package stopwords is already up-to-date!\n",
      "[nltk_data] Downloading package wordnet to\n",
      "[nltk_data]     C:\\Users\\kmail\\AppData\\Roaming\\nltk_data...\n",
      "[nltk_data]   Package wordnet is already up-to-date!\n",
      "IOPub data rate exceeded.\n",
      "The Jupyter server will temporarily stop sending output\n",
      "to the client in order to avoid crashing it.\n",
      "To change this limit, set the config variable\n",
      "`--ServerApp.iopub_data_rate_limit`.\n",
      "\n",
      "Current values:\n",
      "ServerApp.iopub_data_rate_limit=1000000.0 (bytes/sec)\n",
      "ServerApp.rate_limit_window=3.0 (secs)\n",
      "\n"
     ]
    }
   ],
   "source": [
    "from data_cleaning import DataPreprocessor\n",
    "\n",
    "preprocessor = DataPreprocessor(language=\"english\")\n",
    "preprocessed_text = preprocessor.preprocess(cleaned_text, remove_stopwords=True, lemmatize=True)\n",
    "print(\"Cleaned Text:\", preprocessed_text)"
   ],
   "metadata": {
    "collapsed": false,
    "ExecuteTime": {
     "end_time": "2025-01-04T19:53:54.658080800Z",
     "start_time": "2025-01-04T19:53:49.838706400Z"
    }
   }
  },
  {
   "cell_type": "code",
   "execution_count": 13,
   "outputs": [
    {
     "data": {
      "text/plain": "3005969"
     },
     "execution_count": 13,
     "metadata": {},
     "output_type": "execute_result"
    }
   ],
   "source": [
    "len(preprocessed_text)"
   ],
   "metadata": {
    "collapsed": false,
    "ExecuteTime": {
     "end_time": "2025-01-04T19:54:00.145131700Z",
     "start_time": "2025-01-04T19:54:00.044130800Z"
    }
   }
  },
  {
   "cell_type": "code",
   "execution_count": 14,
   "outputs": [],
   "source": [
    "with open(\"test.txt\", \"w\", encoding=\"utf-8\") as f:\n",
    "    f.writelines(preprocessed_text)"
   ],
   "metadata": {
    "collapsed": false,
    "ExecuteTime": {
     "end_time": "2025-01-04T19:54:09.143896200Z",
     "start_time": "2025-01-04T19:54:08.816894400Z"
    }
   }
  },
  {
   "cell_type": "code",
   "execution_count": null,
   "outputs": [
    {
     "name": "stdout",
     "output_type": "stream",
     "text": [
      "2025-01-04 20:54:12 - INFO - PyTorch version 2.5.1 available.\n",
      "2025-01-04 20:54:12 - INFO - PyTorch version 2.5.1 available.\n",
      "2025-01-04 20:54:12 - INFO - PyTorch version 2.5.1 available.\n",
      "2025-01-04 20:54:12 - INFO - PyTorch version 2.5.1 available.\n"
     ]
    },
    {
     "name": "stderr",
     "output_type": "stream",
     "text": [
      "Token indices sequence length is longer than the specified maximum sequence length for this model (509027 > 1024). Running this sequence through the model will result in indexing errors\n"
     ]
    },
    {
     "data": {
      "text/plain": "Map:   0%|          | 0/796 [00:00<?, ? examples/s]",
      "application/vnd.jupyter.widget-view+json": {
       "version_major": 2,
       "version_minor": 0,
       "model_id": "ce3eb2e5014b46529d0069c5a028c4ef"
      }
     },
     "metadata": {},
     "output_type": "display_data"
    },
    {
     "data": {
      "text/plain": "Map:   0%|          | 0/199 [00:00<?, ? examples/s]",
      "application/vnd.jupyter.widget-view+json": {
       "version_major": 2,
       "version_minor": 0,
       "model_id": "3cf5532749584fe2ab648c360210dc04"
      }
     },
     "metadata": {},
     "output_type": "display_data"
    },
    {
     "name": "stderr",
     "output_type": "stream",
     "text": [
      "C:\\Users\\kmail\\OneDrive\\Bureau\\Work_Directory\\Projet Wael\\venv\\lib\\site-packages\\transformers\\training_args.py:1575: FutureWarning: `evaluation_strategy` is deprecated and will be removed in version 4.46 of 🤗 Transformers. Use `eval_strategy` instead\n",
      "  warnings.warn(\n"
     ]
    }
   ],
   "source": [
    "from model_training.training import fine_tune_llm\n",
    "\n",
    "fine_tune_llm(text=preprocessed_text)"
   ],
   "metadata": {
    "collapsed": false,
    "is_executing": true,
    "ExecuteTime": {
     "start_time": "2025-01-04T19:54:11.243202500Z"
    }
   }
  },
  {
   "cell_type": "code",
   "execution_count": 9,
   "outputs": [],
   "source": [],
   "metadata": {
    "collapsed": false,
    "ExecuteTime": {
     "end_time": "2025-01-02T11:24:37.774384Z",
     "start_time": "2025-01-02T11:24:37.758758900Z"
    }
   }
  }
 ],
 "metadata": {
  "kernelspec": {
   "name": "venv",
   "language": "python",
   "display_name": "Python (venv)"
  },
  "language_info": {
   "codemirror_mode": {
    "name": "ipython",
    "version": 2
   },
   "file_extension": ".py",
   "mimetype": "text/x-python",
   "name": "python",
   "nbconvert_exporter": "python",
   "pygments_lexer": "ipython2",
   "version": "2.7.6"
  }
 },
 "nbformat": 4,
 "nbformat_minor": 0
}
